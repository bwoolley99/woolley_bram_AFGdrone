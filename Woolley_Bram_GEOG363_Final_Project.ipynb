{
  "nbformat": 4,
  "nbformat_minor": 0,
  "metadata": {
    "colab": {
      "name": "Woolley_Bram_GEOG363_Final_Project.ipynb",
      "provenance": [],
      "toc_visible": true,
      "collapsed_sections": [
        "uizFDawJScXt",
        "s-9L7igGY3Rj",
        "vNBOhBqVuDfq",
        "yjrwMMIO0oQ6",
        "jmO7B6R1g-fJ",
        "hKfrVuYm9uqB",
        "7l4vubqx9wx4"
      ],
      "authorship_tag": "ABX9TyMAJPjwjhyy66rESt83IePr",
      "include_colab_link": true
    },
    "kernelspec": {
      "name": "python3",
      "display_name": "Python 3"
    },
    "language_info": {
      "name": "python"
    }
  },
  "cells": [
    {
      "cell_type": "markdown",
      "metadata": {
        "id": "view-in-github",
        "colab_type": "text"
      },
      "source": [
        "<a href=\"https://colab.research.google.com/github/bwoolley99/woolley_bram_AFGdrone/blob/main/Woolley_Bram_GEOG363_Final_Project.ipynb\" target=\"_parent\"><img src=\"https://colab.research.google.com/assets/colab-badge.svg\" alt=\"Open In Colab\"/></a>"
      ]
    },
    {
      "cell_type": "markdown",
      "source": [
        "#***Spatial patterns of civilian-harm airstrikes in US-ocuppied Afghanistan, 2016-2018.***\n",
        "\n",
        "\n",
        "> ### **Bram Woolley** | 04/27/2022 \n",
        "> ### **GEOG 363: GIS Programming**\n",
        "\n",
        "-\n",
        "\n",
        "*College of Earth and Mineral Sciences* | *Pennsylvania State University* \n",
        "\n",
        "-\n",
        "\n",
        "*Data from UCLA Drone Wars & The Bureau for Investigative Journalism*\n",
        "\n",
        "\n",
        "-\n",
        "\n",
        "\n",
        "---\n",
        "---\n",
        "\n",
        "\n",
        "\n",
        "\n",
        "\n"
      ],
      "metadata": {
        "id": "uizFDawJScXt"
      }
    },
    {
      "cell_type": "markdown",
      "source": [
        "## **Course Learning Objectives and Project Expectations:**"
      ],
      "metadata": {
        "id": "s-9L7igGY3Rj"
      }
    },
    {
      "cell_type": "markdown",
      "source": [
        "Below are Python skills and practical functionalities learned in GEOG 363, organized by the lab around which they occur.\n",
        "\n",
        "\n",
        "**Bolded skills** have been specifically demonstrated in the execution of this final project:\n",
        "\n",
        "-\n",
        "\n",
        "*Lab 1 :*\n",
        "*   **basic Python navigation**\n",
        "*   **syntax and basic commands**\n",
        "\n",
        "\n",
        "-\n",
        "\n",
        "---\n",
        "\n",
        "-\n",
        "\n",
        "*Lab 2 :*\n",
        "\n",
        "> *   **strings**\n",
        "*   **lists (e.g. making, editing, sorting, printing from)**\n",
        "    *   **making**\n",
        "    *   **editing**\n",
        "    *   **sorting**\n",
        "    *   **printing from**\n",
        "\n",
        "-\n",
        "\n",
        "---\n",
        "\n",
        "-\n",
        "\n",
        "*Lab 3 :*\n",
        "> *   **for loops**\n",
        "*   **lists**\n",
        "    *   **columns**\n",
        "    *   **appending lists**\n",
        "*   **booleans (if, elif, else, and, or, >, =, <)**\n",
        "*   **coordinates**\n",
        "\n",
        "-\n",
        "\n",
        "---\n",
        "\n",
        "-\n",
        "\n",
        "*Lab 4 :*\n",
        "> *  **functions**\n",
        "    *   creating w/ _def_\n",
        "    *   math inside functions\n",
        "    *   returning values w/ _return_\n",
        "    *   variables inside functions\n",
        "    *   booleans inside functions\n",
        "*   **importing data from Google Drive**\n",
        "    *   **connecting to Drive w/ _from_, _import_, and _drive.mount()_**\n",
        "    *   **importing files w/ _import os_ and _os chdir_**\n",
        "*   counting classes in a list using _.count()_\n",
        "\n",
        "-\n",
        "\n",
        "---\n",
        "\n",
        "-\n",
        "\n",
        "*Lab 5 :*\n",
        "\n",
        "> *   **Pandas and DataFrames**\n",
        "    *   **importing Pandas and/or reading-in DataFrames**\n",
        "    *   **Pandas-specific arithmetic and functions**\n",
        "    *   **calling DataFrames and DataFrame columns**\n",
        "    *   **selecting from DataFrame columns with _selected=DataFrame[[‘column1’,’column2’]]_ or with _.loc()_**\n",
        "*   **CSVs**\n",
        "    *   saving and exporting DataFrame data in CSV format\n",
        "*   **subsetting lists**\n",
        "\n",
        "-\n",
        "\n",
        "---\n",
        "\n",
        "-\n",
        "\n",
        "*Lab 6 :*\n",
        "\n",
        "> * **Shapely and vector data**\n",
        "    *   vector point geometry \n",
        "        *   creating from input datafiles\n",
        "    *   vector line geometry\n",
        "    *   **vector polygon geometry**\n",
        "    *   **tuple format (i.e. geometric coordinate values)**\n",
        "    *   geometric calculations and functions (e.g. _.length_, _.area_, and _.centroid_)\n",
        "\n",
        "-\n",
        "\n",
        "---\n",
        "\n",
        "-\n",
        "\n",
        "*Lab 7 :*\n",
        "   >*   **GeoPandas and shapefiles**\n",
        "      *   **importing GeoPandas and/or importing shapefiles**\n",
        "      *   **CRS and reprojections**\n",
        "   *   **point-in-polygon (PIP) operations**\n",
        "   *   constructing buffers around geometry\n",
        "      *   selecting data within a buffer using _for_ loops\n",
        "   *   flattening a \"list of lists\"\n",
        "\n",
        "-\n",
        "\n",
        "---\n",
        "\n",
        "-\n",
        "\n",
        "*Lab 8 :*\n",
        "   > *    XArray and rasters\n",
        "      *   importing NetCDF raster data and XArray\n",
        "   *   regression analysis\n",
        "      *   root-mean-square error\n",
        "   *   time series plotting\n",
        "\n",
        "-\n",
        "\n",
        "---\n",
        "\n",
        "-\n",
        "\n",
        "*Lab 9 :*\n",
        "   > *   OpenStreetMap and network data\n",
        "      *   importing NetworkX network data and OpenStreetMap\n",
        "      *   operations (e.g. shortest path)\n",
        "\n",
        "-\n",
        "\n",
        "---\n",
        "\n",
        "-\n",
        "\n",
        "*Lab 10 :*\n",
        "   > *   Leaflet and interactive mapping\n",
        "      *   zoom\n",
        "      *   tile formatting\n",
        "      *   layers\n",
        "      *   adding points from outside data\n",
        "          *    cluster view\n",
        "          *    heatmapping\n",
        "      *   adding polygon from outside GeoDataFrames\n",
        "          *   choropleth mapping\n",
        "\n",
        "-\n",
        "\n",
        "---\n",
        "---"
      ],
      "metadata": {
        "id": "jhuY4FdshyZ5"
      }
    },
    {
      "cell_type": "markdown",
      "source": [
        "## **Introduction**"
      ],
      "metadata": {
        "id": "vNBOhBqVuDfq"
      }
    },
    {
      "cell_type": "markdown",
      "source": [
        "From 2001 the United States invaded and militarily occupied the strategically-located nation of Afghanistan in central Asia. The subsequent asymmetric conflict between the US-led Coalition and Afghan central government against insurgents (most notably the Taliban) ground on until the Taliban's military victory in 2021. \n",
        "\n",
        "-\n",
        "\n",
        "---\n",
        "\n",
        "-\n",
        "\n",
        "During this time, a key part of the United State's counterinsurgency campaign (a major public goal of the occupation) was the launching of airstrikes from unmanned aerial vehicles, also known as \"drones\". \n",
        "\n",
        "\n",
        "Often, these drone strikes were presented as \"targeted killings\" of key insurgent leaders. However, numerous objections have been raised to these US drone strikes, including concerns over federal executive overreach (CITE), ethics (CITE), international human rights law (CITE), legal due diligence (CITE), and the broader social implications of drone warfare in the United States and in target nations (CITE).\n",
        "\n",
        "\n",
        "-\n",
        "\n",
        "---\n",
        "\n",
        "-\n",
        "\n",
        "\n",
        "During the period of occupation, in January 2017, the United States underwent a transition of authority from the Obama Administration to the Trump Administration. Many cited President Barack Obama and President Donald Trump's opposing party affiliations, rhetoric, and macro policy stances as evidence of a potential shift in US policy (CITE). \n",
        "\n",
        "\n",
        "-\n",
        "\n",
        "---\n",
        "\n",
        "-\n",
        "\n",
        "Using drone strike geospatial event data from UCLA and the Bureau of Investigative Journalism, this project analyzes the pattern of civilian casualties from US drone strikes between 01/2016-01/2017 and 01/2017-01/2018 (the eighth year of Obama's executive and the first year of Trump's executive). "
      ],
      "metadata": {
        "id": "RxR9_PkeuJxP"
      }
    },
    {
      "cell_type": "markdown",
      "source": [
        "### **Data Used:**"
      ],
      "metadata": {
        "id": "yjrwMMIO0oQ6"
      }
    },
    {
      "cell_type": "markdown",
      "source": [
        "Drone Wars point pattern conflict event data (CSV)\n",
        "\n",
        "Geo-EPR polygon ethnographic settlement data for Afghanistan\n",
        "\n",
        "Afghanistan polygon boundary data from the Universty of Austin (shapefile)\n",
        "\n"
      ],
      "metadata": {
        "id": "7-r842Bk0tLg"
      }
    },
    {
      "cell_type": "markdown",
      "source": [
        "## **Analysis and Visualization**"
      ],
      "metadata": {
        "id": "tmBRI_aHDJFH"
      }
    },
    {
      "cell_type": "markdown",
      "source": [
        "\n",
        "\n",
        "### **Reading-In Packages, Scripts, & Data:**\n",
        "\n"
      ],
      "metadata": {
        "id": "8oo-jtFw8zKi"
      }
    },
    {
      "cell_type": "markdown",
      "source": [
        "Here I import all of the Python modules I will want for geospatial data manipulation, analysis, and visualization."
      ],
      "metadata": {
        "id": "5tRDFaIjf8b8"
      }
    },
    {
      "cell_type": "code",
      "source": [
        "# importing verification module 'inspect'\n",
        "import inspect\n",
        "\n",
        "# importing open-source data analysis module 'pandas'\n",
        "import pandas as pd\n",
        "\n",
        "# installing geospatial data operations module 'geopandas'\n",
        "!pip install geopandas\n",
        "import geopandas as gpd\n",
        "\n",
        "# importing planar geometric analysis module 'shapely'\n",
        "from shapely.geometry import Point, LineString, Polygon\n",
        "import shapely.wkt\n",
        "\n",
        "# importing data visualization module 'matplotlib'\n",
        "!pip install matplotlib==3.1.3\n",
        "import matplotlib.pyplot as plt\n",
        "\n",
        "# importing OpenStreetMap accessibility module 'osmnx'\n",
        "!pip install osmnx\n",
        "import osmnx as ox\n",
        "\n",
        "# importing interactive cartography module 'folium'\n",
        "import folium"
      ],
      "metadata": {
        "colab": {
          "base_uri": "https://localhost:8080/",
          "height": 0
        },
        "id": "bNzOjrpKXuJz",
        "outputId": "87d15420-f9ae-4e99-9429-a8a1951bbc66"
      },
      "execution_count": 12,
      "outputs": [
        {
          "output_type": "stream",
          "name": "stdout",
          "text": [
            "Requirement already satisfied: geopandas in /usr/local/lib/python3.7/dist-packages (0.10.2)\n",
            "Requirement already satisfied: shapely>=1.6 in /usr/local/lib/python3.7/dist-packages (from geopandas) (1.8.1.post1)\n",
            "Requirement already satisfied: pyproj>=2.2.0 in /usr/local/lib/python3.7/dist-packages (from geopandas) (3.2.1)\n",
            "Requirement already satisfied: pandas>=0.25.0 in /usr/local/lib/python3.7/dist-packages (from geopandas) (1.3.5)\n",
            "Requirement already satisfied: fiona>=1.8 in /usr/local/lib/python3.7/dist-packages (from geopandas) (1.8.21)\n",
            "Requirement already satisfied: attrs>=17 in /usr/local/lib/python3.7/dist-packages (from fiona>=1.8->geopandas) (21.4.0)\n",
            "Requirement already satisfied: click-plugins>=1.0 in /usr/local/lib/python3.7/dist-packages (from fiona>=1.8->geopandas) (1.1.1)\n",
            "Requirement already satisfied: setuptools in /usr/local/lib/python3.7/dist-packages (from fiona>=1.8->geopandas) (57.4.0)\n",
            "Requirement already satisfied: certifi in /usr/local/lib/python3.7/dist-packages (from fiona>=1.8->geopandas) (2021.10.8)\n",
            "Requirement already satisfied: cligj>=0.5 in /usr/local/lib/python3.7/dist-packages (from fiona>=1.8->geopandas) (0.7.2)\n",
            "Requirement already satisfied: click>=4.0 in /usr/local/lib/python3.7/dist-packages (from fiona>=1.8->geopandas) (7.1.2)\n",
            "Requirement already satisfied: munch in /usr/local/lib/python3.7/dist-packages (from fiona>=1.8->geopandas) (2.5.0)\n",
            "Requirement already satisfied: six>=1.7 in /usr/local/lib/python3.7/dist-packages (from fiona>=1.8->geopandas) (1.15.0)\n",
            "Requirement already satisfied: pytz>=2017.3 in /usr/local/lib/python3.7/dist-packages (from pandas>=0.25.0->geopandas) (2022.1)\n",
            "Requirement already satisfied: numpy>=1.17.3 in /usr/local/lib/python3.7/dist-packages (from pandas>=0.25.0->geopandas) (1.21.6)\n",
            "Requirement already satisfied: python-dateutil>=2.7.3 in /usr/local/lib/python3.7/dist-packages (from pandas>=0.25.0->geopandas) (2.8.2)\n",
            "Collecting matplotlib==3.1.3\n",
            "  Using cached matplotlib-3.1.3-cp37-cp37m-manylinux1_x86_64.whl (13.1 MB)\n",
            "Requirement already satisfied: python-dateutil>=2.1 in /usr/local/lib/python3.7/dist-packages (from matplotlib==3.1.3) (2.8.2)\n",
            "Requirement already satisfied: numpy>=1.11 in /usr/local/lib/python3.7/dist-packages (from matplotlib==3.1.3) (1.21.6)\n",
            "Requirement already satisfied: cycler>=0.10 in /usr/local/lib/python3.7/dist-packages (from matplotlib==3.1.3) (0.11.0)\n",
            "Requirement already satisfied: pyparsing!=2.0.4,!=2.1.2,!=2.1.6,>=2.0.1 in /usr/local/lib/python3.7/dist-packages (from matplotlib==3.1.3) (3.0.8)\n",
            "Requirement already satisfied: kiwisolver>=1.0.1 in /usr/local/lib/python3.7/dist-packages (from matplotlib==3.1.3) (1.4.2)\n",
            "Requirement already satisfied: typing-extensions in /usr/local/lib/python3.7/dist-packages (from kiwisolver>=1.0.1->matplotlib==3.1.3) (4.2.0)\n",
            "Requirement already satisfied: six>=1.5 in /usr/local/lib/python3.7/dist-packages (from python-dateutil>=2.1->matplotlib==3.1.3) (1.15.0)\n",
            "Installing collected packages: matplotlib\n",
            "  Attempting uninstall: matplotlib\n",
            "    Found existing installation: matplotlib 3.5.1\n",
            "    Uninstalling matplotlib-3.5.1:\n",
            "      Successfully uninstalled matplotlib-3.5.1\n",
            "\u001b[31mERROR: pip's dependency resolver does not currently take into account all the packages that are installed. This behaviour is the source of the following dependency conflicts.\n",
            "osmnx 1.1.2 requires matplotlib>=3.4, but you have matplotlib 3.1.3 which is incompatible.\n",
            "albumentations 0.1.12 requires imgaug<0.2.7,>=0.2.5, but you have imgaug 0.2.9 which is incompatible.\u001b[0m\n",
            "Successfully installed matplotlib-3.1.3\n"
          ]
        },
        {
          "output_type": "display_data",
          "data": {
            "application/vnd.colab-display-data+json": {
              "pip_warning": {
                "packages": [
                  "matplotlib",
                  "mpl_toolkits"
                ]
              }
            }
          },
          "metadata": {}
        },
        {
          "output_type": "stream",
          "name": "stdout",
          "text": [
            "Requirement already satisfied: osmnx in /usr/local/lib/python3.7/dist-packages (1.1.2)\n",
            "Requirement already satisfied: requests>=2.26 in /usr/local/lib/python3.7/dist-packages (from osmnx) (2.27.1)\n",
            "Requirement already satisfied: Shapely<2.0,>=1.7 in /usr/local/lib/python3.7/dist-packages (from osmnx) (1.8.1.post1)\n",
            "Requirement already satisfied: geopandas>=0.10 in /usr/local/lib/python3.7/dist-packages (from osmnx) (0.10.2)\n",
            "Requirement already satisfied: networkx>=2.6 in /usr/local/lib/python3.7/dist-packages (from osmnx) (2.6.3)\n",
            "Requirement already satisfied: numpy>=1.21 in /usr/local/lib/python3.7/dist-packages (from osmnx) (1.21.6)\n",
            "Requirement already satisfied: pandas>=1.3 in /usr/local/lib/python3.7/dist-packages (from osmnx) (1.3.5)\n",
            "Requirement already satisfied: pyproj>=3.2 in /usr/local/lib/python3.7/dist-packages (from osmnx) (3.2.1)\n",
            "Collecting matplotlib>=3.4\n",
            "  Using cached matplotlib-3.5.1-cp37-cp37m-manylinux_2_5_x86_64.manylinux1_x86_64.whl (11.2 MB)\n",
            "Requirement already satisfied: Rtree>=0.9 in /usr/local/lib/python3.7/dist-packages (from osmnx) (1.0.0)\n",
            "Requirement already satisfied: fiona>=1.8 in /usr/local/lib/python3.7/dist-packages (from geopandas>=0.10->osmnx) (1.8.21)\n",
            "Requirement already satisfied: click>=4.0 in /usr/local/lib/python3.7/dist-packages (from fiona>=1.8->geopandas>=0.10->osmnx) (7.1.2)\n",
            "Requirement already satisfied: certifi in /usr/local/lib/python3.7/dist-packages (from fiona>=1.8->geopandas>=0.10->osmnx) (2021.10.8)\n",
            "Requirement already satisfied: attrs>=17 in /usr/local/lib/python3.7/dist-packages (from fiona>=1.8->geopandas>=0.10->osmnx) (21.4.0)\n",
            "Requirement already satisfied: cligj>=0.5 in /usr/local/lib/python3.7/dist-packages (from fiona>=1.8->geopandas>=0.10->osmnx) (0.7.2)\n",
            "Requirement already satisfied: six>=1.7 in /usr/local/lib/python3.7/dist-packages (from fiona>=1.8->geopandas>=0.10->osmnx) (1.15.0)\n",
            "Requirement already satisfied: setuptools in /usr/local/lib/python3.7/dist-packages (from fiona>=1.8->geopandas>=0.10->osmnx) (57.4.0)\n",
            "Requirement already satisfied: munch in /usr/local/lib/python3.7/dist-packages (from fiona>=1.8->geopandas>=0.10->osmnx) (2.5.0)\n",
            "Requirement already satisfied: click-plugins>=1.0 in /usr/local/lib/python3.7/dist-packages (from fiona>=1.8->geopandas>=0.10->osmnx) (1.1.1)\n",
            "Requirement already satisfied: fonttools>=4.22.0 in /usr/local/lib/python3.7/dist-packages (from matplotlib>=3.4->osmnx) (4.33.3)\n",
            "Requirement already satisfied: pyparsing>=2.2.1 in /usr/local/lib/python3.7/dist-packages (from matplotlib>=3.4->osmnx) (3.0.8)\n",
            "Requirement already satisfied: kiwisolver>=1.0.1 in /usr/local/lib/python3.7/dist-packages (from matplotlib>=3.4->osmnx) (1.4.2)\n",
            "Requirement already satisfied: cycler>=0.10 in /usr/local/lib/python3.7/dist-packages (from matplotlib>=3.4->osmnx) (0.11.0)\n",
            "Requirement already satisfied: packaging>=20.0 in /usr/local/lib/python3.7/dist-packages (from matplotlib>=3.4->osmnx) (21.3)\n",
            "Requirement already satisfied: pillow>=6.2.0 in /usr/local/lib/python3.7/dist-packages (from matplotlib>=3.4->osmnx) (7.1.2)\n",
            "Requirement already satisfied: python-dateutil>=2.7 in /usr/local/lib/python3.7/dist-packages (from matplotlib>=3.4->osmnx) (2.8.2)\n",
            "Requirement already satisfied: typing-extensions in /usr/local/lib/python3.7/dist-packages (from kiwisolver>=1.0.1->matplotlib>=3.4->osmnx) (4.2.0)\n",
            "Requirement already satisfied: pytz>=2017.3 in /usr/local/lib/python3.7/dist-packages (from pandas>=1.3->osmnx) (2022.1)\n",
            "Requirement already satisfied: urllib3<1.27,>=1.21.1 in /usr/local/lib/python3.7/dist-packages (from requests>=2.26->osmnx) (1.24.3)\n",
            "Requirement already satisfied: idna<4,>=2.5 in /usr/local/lib/python3.7/dist-packages (from requests>=2.26->osmnx) (2.10)\n",
            "Requirement already satisfied: charset-normalizer~=2.0.0 in /usr/local/lib/python3.7/dist-packages (from requests>=2.26->osmnx) (2.0.12)\n",
            "Installing collected packages: matplotlib\n",
            "  Attempting uninstall: matplotlib\n",
            "    Found existing installation: matplotlib 3.1.3\n",
            "    Uninstalling matplotlib-3.1.3:\n",
            "      Successfully uninstalled matplotlib-3.1.3\n",
            "\u001b[31mERROR: pip's dependency resolver does not currently take into account all the packages that are installed. This behaviour is the source of the following dependency conflicts.\n",
            "albumentations 0.1.12 requires imgaug<0.2.7,>=0.2.5, but you have imgaug 0.2.9 which is incompatible.\u001b[0m\n",
            "Successfully installed matplotlib-3.5.1\n"
          ]
        },
        {
          "output_type": "display_data",
          "data": {
            "application/vnd.colab-display-data+json": {
              "pip_warning": {
                "packages": [
                  "matplotlib",
                  "mpl_toolkits"
                ]
              }
            }
          },
          "metadata": {}
        }
      ]
    },
    {
      "cell_type": "markdown",
      "source": [
        "Here, I connect to my Google Drive and to the specific folder which contains my projects' datafiles: the UCLA/BIJ Drone Wars csv and the Afghanistan vector data."
      ],
      "metadata": {
        "id": "Z5KSNLMYgORC"
      }
    },
    {
      "cell_type": "code",
      "source": [
        "# connecting to drive\n",
        "from google.colab import drive\n",
        "drive.mount('/content/drive')\n",
        "\n",
        "# connecting to folder\n",
        "import os\n",
        "os.chdir('/content/drive/MyDrive/GEOG363/Final/')\n",
        "\n",
        "# reading-in DroneWars data (csv type, point data)\n",
        "drone = pd.read_csv('DroneWarsData.csv',encoding='latin-1')\n",
        "\n",
        "# reading-in the Afghanistan boundary data (df type, polygon data)\n",
        "af_bounds = gpd.read_file('AFG_adm0.shp')"
      ],
      "metadata": {
        "colab": {
          "base_uri": "https://localhost:8080/"
        },
        "id": "Ew4iFG-HYZN0",
        "outputId": "d590c835-ef05-450b-967e-6ce5c24970c1"
      },
      "execution_count": 13,
      "outputs": [
        {
          "output_type": "stream",
          "name": "stdout",
          "text": [
            "Drive already mounted at /content/drive; to attempt to forcibly remount, call drive.mount(\"/content/drive\", force_remount=True).\n"
          ]
        }
      ]
    },
    {
      "cell_type": "markdown",
      "source": [
        "### **Analyzing Data:**"
      ],
      "metadata": {
        "id": "-WzHyyGy9n8l"
      }
    },
    {
      "cell_type": "markdown",
      "source": [
        "#### **Initial Data Exploration**"
      ],
      "metadata": {
        "id": "TkgAj_5Td8NG"
      }
    },
    {
      "cell_type": "markdown",
      "source": [
        "Here I quickly visualize our data with matplotlib in order to explore attributes and distribution."
      ],
      "metadata": {
        "id": "KZ4jHViYtbzS"
      }
    },
    {
      "cell_type": "markdown",
      "source": [
        "Here is our polygon boundary data for Afghanistan."
      ],
      "metadata": {
        "id": "jAep96Kgtpfn"
      }
    },
    {
      "cell_type": "code",
      "source": [
        "fig, ax = plt.subplots(figsize=(30,30))\n",
        "af_bounds.plot(ax=ax, color='lightgreen')"
      ],
      "metadata": {
        "colab": {
          "base_uri": "https://localhost:8080/",
          "height": 0
        },
        "id": "w23vwW9JhfcN",
        "outputId": "492655b0-425e-48a9-b12e-3280ed4bc84f"
      },
      "execution_count": 14,
      "outputs": [
        {
          "output_type": "execute_result",
          "data": {
            "text/plain": [
              "<AxesSubplot:>"
            ]
          },
          "metadata": {},
          "execution_count": 14
        },
        {
          "output_type": "display_data",
          "data": {
            "text/plain": [
              "<Figure size 2160x2160 with 1 Axes>"
            ],
            "image/png": "[encoded data removed]"
          },
          "metadata": {
            "needs_background": "light"
          }
        }
      ]
    },
    {
      "cell_type": "markdown",
      "source": [
        "And here are is our point pattern derived from the CSV."
      ],
      "metadata": {
        "id": "KEGnExBqt2o5"
      }
    },
    {
      "cell_type": "code",
      "source": [
        ""
      ],
      "metadata": {
        "id": "AqT3tsjIt0Ok"
      },
      "execution_count": 14,
      "outputs": []
    },
    {
      "cell_type": "markdown",
      "source": [
        "#### **Kernel Density Estimates for Civilian Casualty Events**"
      ],
      "metadata": {
        "id": "jmO7B6R1g-fJ"
      }
    },
    {
      "cell_type": "code",
      "source": [
        ""
      ],
      "metadata": {
        "id": "w2Ek5jS0gwLK"
      },
      "execution_count": 14,
      "outputs": []
    },
    {
      "cell_type": "markdown",
      "source": [
        "### **Visualizing Data:**\n",
        "\n"
      ],
      "metadata": {
        "id": "hKfrVuYm9uqB"
      }
    },
    {
      "cell_type": "markdown",
      "source": [
        "#### **Leaflet Cartography**"
      ],
      "metadata": {
        "id": "2tZ2SKveeIvX"
      }
    },
    {
      "cell_type": "markdown",
      "source": [
        "## **Conclusions:**"
      ],
      "metadata": {
        "id": "7l4vubqx9wx4"
      }
    },
    {
      "cell_type": "markdown",
      "source": [
        "Conclusions text.\n"
      ],
      "metadata": {
        "id": "3C_1RZyohWcV"
      }
    },
    {
      "cell_type": "code",
      "source": [
        "# codeblock"
      ],
      "metadata": {
        "id": "CVVLB8prhZkd"
      },
      "execution_count": 15,
      "outputs": []
    }
  ]
}